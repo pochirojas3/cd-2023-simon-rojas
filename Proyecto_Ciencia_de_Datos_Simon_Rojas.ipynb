{
  "nbformat": 4,
  "nbformat_minor": 0,
  "metadata": {
    "colab": {
      "provenance": []
    },
    "kernelspec": {
      "name": "python3",
      "display_name": "Python 3"
    },
    "language_info": {
      "name": "python"
    }
  },
  "cells": [
    {
      "cell_type": "code",
      "execution_count": 8,
      "metadata": {
        "colab": {
          "base_uri": "https://localhost:8080/"
        },
        "id": "I9NgImE8flh8",
        "outputId": "c461adeb-2168-45f7-bdf9-1bf8801387d6"
      },
      "outputs": [
        {
          "output_type": "stream",
          "name": "stdout",
          "text": [
            "Looking in indexes: https://pypi.org/simple, https://us-python.pkg.dev/colab-wheels/public/simple/\n",
            "Requirement already satisfied: pyproj in /usr/local/lib/python3.9/dist-packages (3.4.1)\n",
            "Requirement already satisfied: certifi in /usr/local/lib/python3.9/dist-packages (from pyproj) (2022.12.7)\n"
          ]
        }
      ],
      "source": [
        "!pip install pyproj"
      ]
    },
    {
      "cell_type": "code",
      "source": [
        "!pip install geopandas"
      ],
      "metadata": {
        "colab": {
          "base_uri": "https://localhost:8080/"
        },
        "id": "XqJr0y5NgHrp",
        "outputId": "0e541ba5-0765-428b-b5c9-d141048d9114"
      },
      "execution_count": 9,
      "outputs": [
        {
          "output_type": "stream",
          "name": "stdout",
          "text": [
            "Looking in indexes: https://pypi.org/simple, https://us-python.pkg.dev/colab-wheels/public/simple/\n",
            "Requirement already satisfied: geopandas in /usr/local/lib/python3.9/dist-packages (0.12.2)\n",
            "Requirement already satisfied: packaging in /usr/local/lib/python3.9/dist-packages (from geopandas) (23.0)\n",
            "Requirement already satisfied: pandas>=1.0.0 in /usr/local/lib/python3.9/dist-packages (from geopandas) (1.4.4)\n",
            "Requirement already satisfied: pyproj>=2.6.1.post1 in /usr/local/lib/python3.9/dist-packages (from geopandas) (3.4.1)\n",
            "Requirement already satisfied: fiona>=1.8 in /usr/local/lib/python3.9/dist-packages (from geopandas) (1.9.2)\n",
            "Requirement already satisfied: shapely>=1.7 in /usr/local/lib/python3.9/dist-packages (from geopandas) (2.0.1)\n",
            "Requirement already satisfied: cligj>=0.5 in /usr/local/lib/python3.9/dist-packages (from fiona>=1.8->geopandas) (0.7.2)\n",
            "Requirement already satisfied: attrs>=19.2.0 in /usr/local/lib/python3.9/dist-packages (from fiona>=1.8->geopandas) (22.2.0)\n",
            "Requirement already satisfied: click-plugins>=1.0 in /usr/local/lib/python3.9/dist-packages (from fiona>=1.8->geopandas) (1.1.1)\n",
            "Requirement already satisfied: importlib-metadata in /usr/local/lib/python3.9/dist-packages (from fiona>=1.8->geopandas) (6.1.0)\n",
            "Requirement already satisfied: munch>=2.3.2 in /usr/local/lib/python3.9/dist-packages (from fiona>=1.8->geopandas) (2.5.0)\n",
            "Requirement already satisfied: click~=8.0 in /usr/local/lib/python3.9/dist-packages (from fiona>=1.8->geopandas) (8.1.3)\n",
            "Requirement already satisfied: certifi in /usr/local/lib/python3.9/dist-packages (from fiona>=1.8->geopandas) (2022.12.7)\n",
            "Requirement already satisfied: pytz>=2020.1 in /usr/local/lib/python3.9/dist-packages (from pandas>=1.0.0->geopandas) (2022.7.1)\n",
            "Requirement already satisfied: python-dateutil>=2.8.1 in /usr/local/lib/python3.9/dist-packages (from pandas>=1.0.0->geopandas) (2.8.2)\n",
            "Requirement already satisfied: numpy>=1.18.5 in /usr/local/lib/python3.9/dist-packages (from pandas>=1.0.0->geopandas) (1.22.4)\n",
            "Requirement already satisfied: six in /usr/local/lib/python3.9/dist-packages (from munch>=2.3.2->fiona>=1.8->geopandas) (1.16.0)\n",
            "Requirement already satisfied: zipp>=0.5 in /usr/local/lib/python3.9/dist-packages (from importlib-metadata->fiona>=1.8->geopandas) (3.15.0)\n"
          ]
        }
      ]
    },
    {
      "cell_type": "code",
      "source": [
        "!pip install cython\n",
        "!pip install cython\n",
        "!pip uninstall cartopy\n",
        "!pip install cartopy"
      ],
      "metadata": {
        "colab": {
          "base_uri": "https://localhost:8080/",
          "height": 693
        },
        "id": "271Y9t7TgMnQ",
        "outputId": "2aa946fe-5751-4e10-a3c1-8e53c9139863"
      },
      "execution_count": 10,
      "outputs": [
        {
          "output_type": "stream",
          "name": "stdout",
          "text": [
            "Looking in indexes: https://pypi.org/simple, https://us-python.pkg.dev/colab-wheels/public/simple/\n",
            "Requirement already satisfied: cython in /usr/local/lib/python3.9/dist-packages (0.29.33)\n",
            "Looking in indexes: https://pypi.org/simple, https://us-python.pkg.dev/colab-wheels/public/simple/\n",
            "Requirement already satisfied: cython in /usr/local/lib/python3.9/dist-packages (0.29.33)\n",
            "Found existing installation: Cartopy 0.21.1\n",
            "Uninstalling Cartopy-0.21.1:\n",
            "  Would remove:\n",
            "    /usr/local/bin/cartopy_feature_download.py\n",
            "    /usr/local/lib/python3.9/dist-packages/Cartopy-0.21.1.dist-info/*\n",
            "    /usr/local/lib/python3.9/dist-packages/cartopy/*\n",
            "Proceed (Y/n)? y\n",
            "  Successfully uninstalled Cartopy-0.21.1\n",
            "Looking in indexes: https://pypi.org/simple, https://us-python.pkg.dev/colab-wheels/public/simple/\n",
            "Collecting cartopy\n",
            "  Using cached Cartopy-0.21.1-cp39-cp39-linux_x86_64.whl\n",
            "Requirement already satisfied: matplotlib>=3.1 in /usr/local/lib/python3.9/dist-packages (from cartopy) (3.7.1)\n",
            "Requirement already satisfied: numpy>=1.18 in /usr/local/lib/python3.9/dist-packages (from cartopy) (1.22.4)\n",
            "Requirement already satisfied: shapely>=1.6.4 in /usr/local/lib/python3.9/dist-packages (from cartopy) (2.0.1)\n",
            "Requirement already satisfied: pyshp>=2.1 in /usr/local/lib/python3.9/dist-packages (from cartopy) (2.3.1)\n",
            "Requirement already satisfied: pyproj>=3.0.0 in /usr/local/lib/python3.9/dist-packages (from cartopy) (3.4.1)\n",
            "Requirement already satisfied: pillow>=6.2.0 in /usr/local/lib/python3.9/dist-packages (from matplotlib>=3.1->cartopy) (8.4.0)\n",
            "Requirement already satisfied: python-dateutil>=2.7 in /usr/local/lib/python3.9/dist-packages (from matplotlib>=3.1->cartopy) (2.8.2)\n",
            "Requirement already satisfied: cycler>=0.10 in /usr/local/lib/python3.9/dist-packages (from matplotlib>=3.1->cartopy) (0.11.0)\n",
            "Requirement already satisfied: contourpy>=1.0.1 in /usr/local/lib/python3.9/dist-packages (from matplotlib>=3.1->cartopy) (1.0.7)\n",
            "Requirement already satisfied: pyparsing>=2.3.1 in /usr/local/lib/python3.9/dist-packages (from matplotlib>=3.1->cartopy) (3.0.9)\n",
            "Requirement already satisfied: packaging>=20.0 in /usr/local/lib/python3.9/dist-packages (from matplotlib>=3.1->cartopy) (23.0)\n",
            "Requirement already satisfied: kiwisolver>=1.0.1 in /usr/local/lib/python3.9/dist-packages (from matplotlib>=3.1->cartopy) (1.4.4)\n",
            "Requirement already satisfied: fonttools>=4.22.0 in /usr/local/lib/python3.9/dist-packages (from matplotlib>=3.1->cartopy) (4.39.2)\n",
            "Requirement already satisfied: importlib-resources>=3.2.0 in /usr/local/lib/python3.9/dist-packages (from matplotlib>=3.1->cartopy) (5.12.0)\n",
            "Requirement already satisfied: certifi in /usr/local/lib/python3.9/dist-packages (from pyproj>=3.0.0->cartopy) (2022.12.7)\n",
            "Requirement already satisfied: zipp>=3.1.0 in /usr/local/lib/python3.9/dist-packages (from importlib-resources>=3.2.0->matplotlib>=3.1->cartopy) (3.15.0)\n",
            "Requirement already satisfied: six>=1.5 in /usr/local/lib/python3.9/dist-packages (from python-dateutil>=2.7->matplotlib>=3.1->cartopy) (1.16.0)\n",
            "Installing collected packages: cartopy\n",
            "Successfully installed cartopy-0.21.1\n"
          ]
        },
        {
          "output_type": "display_data",
          "data": {
            "application/vnd.colab-display-data+json": {
              "pip_warning": {
                "packages": [
                  "cartopy"
                ]
              }
            }
          },
          "metadata": {}
        }
      ]
    },
    {
      "cell_type": "code",
      "source": [
        "!apt-get -qq install python-cartopy python3-cartopy\n",
        "!pip uninstall -y shapely    \n",
        "!pip install shapely --no-binary shapely"
      ],
      "metadata": {
        "colab": {
          "base_uri": "https://localhost:8080/"
        },
        "id": "LgIGD6Wlgd4p",
        "outputId": "57f9e943-30dd-48da-807c-c7b8184f5ce5"
      },
      "execution_count": null,
      "outputs": [
        {
          "output_type": "stream",
          "name": "stdout",
          "text": [
            "E: Unable to locate package python-cartopy\n",
            "Found existing installation: shapely 2.0.1\n",
            "Uninstalling shapely-2.0.1:\n",
            "  Successfully uninstalled shapely-2.0.1\n",
            "Looking in indexes: https://pypi.org/simple, https://us-python.pkg.dev/colab-wheels/public/simple/\n",
            "Collecting shapely\n",
            "  Using cached shapely-2.0.1.tar.gz (275 kB)\n",
            "  Installing build dependencies ... \u001b[?25l\u001b[?25hdone\n",
            "  Getting requirements to build wheel ... \u001b[?25l\u001b[?25hdone\n",
            "  Installing backend dependencies ... \u001b[?25l\u001b[?25hdone\n",
            "  Preparing metadata (pyproject.toml) ... \u001b[?25l\u001b[?25hdone\n",
            "Requirement already satisfied: numpy>=1.14 in /usr/local/lib/python3.9/dist-packages (from shapely) (1.22.4)\n",
            "Building wheels for collected packages: shapely\n"
          ]
        }
      ]
    },
    {
      "cell_type": "code",
      "source": [
        "import pandas as pd\n",
        "import pyproj\n",
        "import math\n",
        "import matplotlib.pyplot as plt\n",
        "import seaborn as sb\n",
        "import urllib.request\n",
        "%matplotlib inline\n",
        "import matplotlib.pyplot as plt\n",
        "from matplotlib import cm\n",
        "import numpy as np\n",
        "import cartopy\n",
        "import cartopy.crs as ccrs                   \n",
        "import cartopy.feature as cfeature           \n",
        "import cartopy.io.shapereader as shapereader\n",
        "from cartopy.mpl.ticker import LongitudeFormatter, LatitudeFormatter\n",
        "from cartopy.feature.nightshade import Nightshade\n",
        "import geopandas as gpd\n",
        "import random\n",
        "from shapely.geometry import Point, Polygon\n",
        "import time"
      ],
      "metadata": {
        "id": "CvOYlMzXgrTe"
      },
      "execution_count": null,
      "outputs": []
    },
    {
      "cell_type": "code",
      "source": [
        "root = 'https://raw.githubusercontent.com/fmoreno4/cd-files/main/eventos_dengue_2020.csv'\n",
        "df = pd.read_csv(root)\n",
        "df"
      ],
      "metadata": {
        "id": "Zir5QEEpgwvY"
      },
      "execution_count": null,
      "outputs": []
    },
    {
      "cell_type": "code",
      "source": [
        "#Creamos la proyeccion\n",
        "P = pyproj.Proj(proj='utm', zone=15, ellps='WGS84', preserve_units=True)"
      ],
      "metadata": {
        "id": "EejOJ56eg1mC"
      },
      "execution_count": null,
      "outputs": []
    },
    {
      "cell_type": "code",
      "source": [
        "#Convertimos las cordenadas a UTM\n",
        "df['x'], df['y'] = P(df['longitud'], df['latitud'])\n",
        "df"
      ],
      "metadata": {
        "id": "N9Sc1Oypg_1o"
      },
      "execution_count": null,
      "outputs": []
    },
    {
      "cell_type": "code",
      "source": [
        "subplot_kw = dict(projection=ccrs.PlateCarree())\n",
        "\n",
        "fig, ax = plt.subplots(figsize=(16, 16), subplot_kw=subplot_kw)\n",
        "\n",
        "# Puntos Floridablanca\n",
        "lower_lon = -73.13\n",
        "upper_lon = -73.08\n",
        "lower_lat = 7.06\n",
        "upper_lat = 7.10\n",
        "\n",
        "ax.scatter(df['longitud'], df['latitud'], zorder=10, c='b', s=10)\n",
        "plt.show()"
      ],
      "metadata": {
        "id": "XmOdQzoFhEJv"
      },
      "execution_count": null,
      "outputs": []
    },
    {
      "cell_type": "code",
      "source": [
        "#Se carga la cartografía de Floridablanca\n",
        "url = 'https://foscal.net/cartografia/'\n",
        "\n",
        "file_list = [\"68276_urbano.cpg\", \"68276_urbano.dbf\", \"68276_urbano.prj\", \"68276_urbano.qmd\", \"68276_urbano.shp\", \"68276_urbano.shx\"]\n",
        "\n",
        "for file in file_list:\n",
        "    urllib.request.urlretrieve(url+file, file)"
      ],
      "metadata": {
        "id": "cVeAXkIOhQlR"
      },
      "execution_count": null,
      "outputs": []
    },
    {
      "cell_type": "code",
      "source": [
        "subplot_kw = dict(projection=ccrs.PlateCarree())\n",
        "\n",
        "fig, ax = plt.subplots(figsize=(20, 20), subplot_kw=subplot_kw)\n",
        "\n",
        "# Mapa de Floridablanca\n",
        "lower_lon = -73.13\n",
        "upper_lon = -73.08\n",
        "lower_lat = 7.06\n",
        "upper_lat = 7.10\n",
        "\n",
        "ax.set_extent([lower_lon, upper_lon, lower_lat, upper_lat])\n",
        "\n",
        "reader = shapereader.Reader('68276_urbano.shp')\n",
        "\n",
        "for poly in reader.geometries():\n",
        "    ax.add_geometries([poly], ccrs.PlateCarree(), facecolor='white', edgecolor='black')\n",
        "\n",
        "plt.show()"
      ],
      "metadata": {
        "id": "gx-0M6gVhvRK"
      },
      "execution_count": null,
      "outputs": []
    },
    {
      "cell_type": "code",
      "source": [
        "#Combinacion de las dos graficas\n",
        "fdbnc = gpd.read_file(\"68276_urbano.shp\")\n",
        "fdbnc = fdbnc.to_crs(\"EPSG:32618\")\n",
        "area_fdbnc = fdbnc.area.sum()\n",
        "print(f\"El área de Floridablanca es {area_fdbnc:.2f} metros cuadrados\")\n"
      ],
      "metadata": {
        "id": "Ne96ScmDh543"
      },
      "execution_count": null,
      "outputs": []
    },
    {
      "cell_type": "code",
      "source": [
        "pointList=[]\n",
        "for i in range(df.shape[0]):\n",
        "  pointList.append((df[\"x\"][i],df[\"y\"][i]))"
      ],
      "metadata": {
        "id": "E80kV7l0h8aB"
      },
      "execution_count": null,
      "outputs": []
    },
    {
      "cell_type": "code",
      "source": [
        "len(pointList)"
      ],
      "metadata": {
        "id": "tQkXFgIjiZ7N"
      },
      "execution_count": null,
      "outputs": []
    },
    {
      "cell_type": "code",
      "source": [
        "from shapely.geometry import Point\n",
        "from shapely.ops import nearest_points\n",
        "from itertools import combinations\n",
        "\n",
        "#listapuntos = [(x, y) for x, y in zip(df['x'], df['y'])]\n",
        "\n",
        "#puntos = [Point(c) for c in listapuntos]\n",
        "\n",
        "#parejas = list(combinations(puntos, 2))\n",
        "\n",
        "#parejas_cercanas = []\n",
        "#for p1, p2 in parejas:\n",
        "    ##if p1.distance(p2) <= 100:\n",
        "        #parejas_cercanas.append((p1.coords[0], p2.coords[0]))#\n",
        "\n",
        "#len(parejas_cercanas)\n",
        "\n",
        "\n"
      ],
      "metadata": {
        "id": "bOlvbR9Rmgnv"
      },
      "execution_count": null,
      "outputs": []
    },
    {
      "cell_type": "code",
      "source": [
        "from scipy.spatial.distance import pdist, squareform\n",
        "\n",
        "coordenadas = np.column_stack((df['x'], df['y']))\n",
        "\n",
        "dist_matrix = squareform(pdist(coordenadas))\n",
        "\n",
        "mask = dist_matrix < 100\n",
        "\n",
        "pairNum = np.sum(mask) // 2 \n",
        "print(pairNum)"
      ],
      "metadata": {
        "id": "GnvwyCXAk_9K"
      },
      "execution_count": null,
      "outputs": []
    },
    {
      "cell_type": "code",
      "source": [
        "def calcular_distancia(x1, y1, x2, y2):\n",
        "    distancia = math.sqrt((x2 - x1)**2 + (y2 - y1)**2)\n",
        "    return distancia"
      ],
      "metadata": {
        "id": "aNlG6NlL1Xy1"
      },
      "execution_count": null,
      "outputs": []
    },
    {
      "cell_type": "code",
      "source": [
        "def k_ripley(pointsList,area,h):\n",
        "  contK=0\n",
        "  for i in range(len(pointsList)-1):\n",
        "    for j in range(i+1,len(pointsList)):\n",
        "      if calcular_distancia(pointsList[i][0],pointsList[i][1],pointsList[j][0],pointsList[j][1])<=h:\n",
        "        contK+=1\n",
        "  valorK=contK*area/len(pointsList)**2\n",
        "  return valorK \n",
        "  \n",
        "k_ripley(pointList,area_fdbnc,100)"
      ],
      "metadata": {
        "id": "YrJW08kPlES9"
      },
      "execution_count": null,
      "outputs": []
    },
    {
      "cell_type": "code",
      "source": [
        "lower_lon, lower_lat, upper_lon, upper_lat = fdbnc.total_bounds\n",
        "num_pnts = 1000\n",
        "\n",
        "random_pnts = []\n",
        "while len(random_pnts) < num_pnts:\n",
        "    pnt = [np.random.uniform(upper_lon, lower_lon), np.random.uniform(lower_lat, upper_lat)]\n",
        "    random_pnts.append(pnt)\n",
        "\n"
      ],
      "metadata": {
        "id": "SgJm_5KwlrX_"
      },
      "execution_count": null,
      "outputs": []
    },
    {
      "cell_type": "code",
      "source": [
        "def arePointsInShape(polygon, points):\n",
        "    filtered_pnts = []\n",
        "    for point in points:\n",
        "        if polygon.contains(Point(point)):\n",
        "            filtered_pnts.append(point)\n",
        "    return filtered_pnts\n",
        "\n",
        "filtered_pnts = arePointsInShape(fdbnc.geometry[0], random_pnts)"
      ],
      "metadata": {
        "id": "eEhL5Kg3m24H"
      },
      "execution_count": null,
      "outputs": []
    },
    {
      "cell_type": "code",
      "source": [
        "pnts_gdf = gpd.GeoDataFrame(geometry=[Point(point) for point in filtered_pnts])\n",
        "pnts_gdf['id'] = range(len(pnts_gdf))"
      ],
      "metadata": {
        "id": "Immy9-QXnZiX"
      },
      "execution_count": null,
      "outputs": []
    },
    {
      "cell_type": "code",
      "source": [
        "ax = fdbnc.plot(color='white', edgecolor='black')\n",
        "pnts_gdf.plot(ax=ax, color='blue', markersize=5)"
      ],
      "metadata": {
        "id": "6POfBNf9nuyW"
      },
      "execution_count": null,
      "outputs": []
    },
    {
      "cell_type": "code",
      "source": [
        "p = pyproj.Proj(proj='utm', zone=18, ellps='WGS84', preserve_units=True)"
      ],
      "metadata": {
        "id": "uX8kITVNn3f1"
      },
      "execution_count": null,
      "outputs": []
    },
    {
      "cell_type": "code",
      "source": [
        "lower_lon = -73.13\n",
        "upper_lon = -73.08\n",
        "lower_lat = 7.06\n",
        "upper_lat = 7.10\n",
        "\n",
        "x_min,y_min = p(lower_lon, lower_lat)\n",
        "x_max, y_max = p(upper_lon, upper_lat)"
      ],
      "metadata": {
        "id": "oNvl-LpwoB3r"
      },
      "execution_count": null,
      "outputs": []
    },
    {
      "cell_type": "code",
      "source": [
        "x_min,y_min,x_max,y_max"
      ],
      "metadata": {
        "id": "0gT_t_S1oJGk"
      },
      "execution_count": null,
      "outputs": []
    },
    {
      "cell_type": "code",
      "source": [
        "import shapely.geometry as sg\n"
      ],
      "metadata": {
        "id": "Ma9OGVcI66ju"
      },
      "execution_count": null,
      "outputs": []
    },
    {
      "cell_type": "code",
      "source": [
        "from shapely.geometry import Polygon\n",
        "coords = fdbnc.geometry[0]\n",
        "polygon = Polygon(coords)\n",
        "ramList=[]\n",
        "for i in range(9):\n",
        "    group = []\n",
        "    i = 0\n",
        "while i < len(pointList):\n",
        "    random_easting = np.random.uniform(x_min, x_max)\n",
        "    random_northing = np.random.uniform(y_min, y_max)\n",
        "    point = Point(random_easting, random_northing)\n",
        "    if point.within(polygon):\n",
        "        group.append((random_easting, random_northing))\n",
        "        i += 1\n",
        "\n",
        "ramList.append(group)"
      ],
      "metadata": {
        "id": "5LIf0vA668QA"
      },
      "execution_count": null,
      "outputs": []
    },
    {
      "cell_type": "code",
      "source": [
        "df1 = pd.DataFrame(ramList[0], columns=['x', 'y'])\n",
        "\n",
        "df1['longitud'],df1['latitud']=p(df1['x'],df1['y'],inverse=True)\n",
        "\n",
        "df1"
      ],
      "metadata": {
        "id": "LwbrVyGy3QeV"
      },
      "execution_count": null,
      "outputs": []
    },
    {
      "cell_type": "code",
      "source": [
        "from pandas.compat import F\n",
        "dataList=[]\n",
        "for h in range(10,201,10):\n",
        "    k = k_ripley(pointList,area_fdbnc,h)\n",
        "    k_list=[]\n",
        "    for group in ramList:\n",
        "        k_list.append(k_ripley(group,area_fdbnc,h))\n",
        "    k_list.append(k)\n",
        "    k_list.sort()\n",
        "\n",
        "    first_percentile = np.percentile(k_list, 2.5)\n",
        "    second_percentile = np.percentile(k_list, 97.5)\n",
        "    dataList.append([h, k, first_percentile, second_percentile])"
      ],
      "metadata": {
        "id": "emm5Duy74VkN"
      },
      "execution_count": null,
      "outputs": []
    },
    {
      "cell_type": "code",
      "source": [
        "results=pd.DataFrame(dataList,columns=('h','k','first_percentile', 'second_percentile'))\n",
        "results\n"
      ],
      "metadata": {
        "id": "_Adw-r-P53-S"
      },
      "execution_count": null,
      "outputs": []
    },
    {
      "cell_type": "code",
      "source": [
        "df = pd.DataFrame(dataList, columns=['h', 'k', 'percentile_2_5', 'percentile_97_5'])\n",
        "\n",
        "# Creamos la visualización\n",
        "plt.plot(df['h'], df['k'], label='k')\n",
        "plt.plot(df['h'], df['percentile_2_5'], label='2.5% percentile')\n",
        "plt.plot(df['h'], df['percentile_97_5'], label='97.5% percentile')\n",
        "plt.xlabel('h')\n",
        "plt.ylabel('Valor')\n",
        "plt.legend()\n",
        "plt.show()"
      ],
      "metadata": {
        "id": "LT0cd2tq6dci"
      },
      "execution_count": null,
      "outputs": []
    }
  ]
}