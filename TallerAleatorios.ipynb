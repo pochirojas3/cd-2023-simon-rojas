{
  "nbformat": 4,
  "nbformat_minor": 0,
  "metadata": {
    "colab": {
      "provenance": []
    },
    "kernelspec": {
      "name": "python3",
      "display_name": "Python 3"
    },
    "language_info": {
      "name": "python"
    }
  },
  "cells": [
    {
      "cell_type": "code",
      "execution_count": 1,
      "metadata": {
        "id": "O946NK-9xZoN"
      },
      "outputs": [],
      "source": [
        "import math\n",
        "from random import random\n",
        "\n",
        "def distancia(x, y):\n",
        "  return math.sqrt(x**2 + y**2)"
      ]
    },
    {
      "cell_type": "code",
      "source": [
        "cont = 0\n",
        "puntosLado = 10000\n",
        "paso = 1 / (puntosLado - 1)\n",
        "\n",
        "i = 0\n",
        "while i <= 1:\n",
        "  j = 0\n",
        "  while j <= 1:\n",
        "    if distancia(i, j) <= 1:\n",
        "      cont += 1\n",
        "    j+= paso\n",
        "  i += paso\n",
        "\n",
        "print(\"Puntos:\", cont)\n",
        "print(\"Estimación de pi:\", (cont * 4 / (puntosLado**2)))"
      ],
      "metadata": {
        "colab": {
          "base_uri": "https://localhost:8080/"
        },
        "id": "MQgGiiG-xe6G",
        "outputId": "ab96369a-c1c8-4b61-fa56-9e884805f102"
      },
      "execution_count": 21,
      "outputs": [
        {
          "output_type": "stream",
          "name": "stdout",
          "text": [
            "Puntos: 78534021\n",
            "Estimación de pi: 3.14136084\n"
          ]
        }
      ]
    },
    {
      "cell_type": "code",
      "source": [
        "def GetPoint():\n",
        "  x,y = random(), random()\n",
        "  return math.sqrt(x**2 + y**2) <= 1"
      ],
      "metadata": {
        "id": "HiAXmuqZxjnB"
      },
      "execution_count": 10,
      "outputs": []
    },
    {
      "cell_type": "code",
      "source": [
        "def circleEstimation(n):\n",
        "  i = 0\n",
        "  for k in range(n):\n",
        "    if GetPoint():\n",
        "      i += 1\n",
        "  return 4*i/n"
      ],
      "metadata": {
        "id": "lTEF065Pydme"
      },
      "execution_count": 6,
      "outputs": []
    },
    {
      "cell_type": "code",
      "source": [
        "circleEstimation(10000000)"
      ],
      "metadata": {
        "colab": {
          "base_uri": "https://localhost:8080/"
        },
        "id": "9ykIA17VzDSt",
        "outputId": "a0f7d867-1761-4872-e197-91ded95a595b"
      },
      "execution_count": 23,
      "outputs": [
        {
          "output_type": "execute_result",
          "data": {
            "text/plain": [
              "3.141496"
            ]
          },
          "metadata": {},
          "execution_count": 23
        }
      ]
    }
  ]
}